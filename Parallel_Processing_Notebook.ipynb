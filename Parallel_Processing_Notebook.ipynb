{
  "cells": [
    {
      "cell_type": "markdown",
      "metadata": {
        "id": "view-in-github",
        "colab_type": "text"
      },
      "source": [
        "<a href=\"https://colab.research.google.com/github/shreyas-rc/GEE_Codes_V.1.2/blob/main/Parallel_Processing_Notebook.ipynb\" target=\"_parent\"><img src=\"https://colab.research.google.com/assets/colab-badge.svg\" alt=\"Open In Colab\"/></a>"
      ]
    },
    {
      "cell_type": "markdown",
      "metadata": {
        "id": "dJYb8lstq6eg"
      },
      "source": [
        "# The Below is a Javascript coder editor code of Google Earth Engine that helps download data parallelly  "
      ]
    },
    {
      "cell_type": "code",
      "execution_count": null,
      "metadata": {
        "vscode": {
          "languageId": "plaintext"
        },
        "id": "8lXSPvJBq6ek"
      },
      "outputs": [],
      "source": [
        "\"\"\"\n",
        "Code Starts Here ---->\n",
        "\n",
        "//The Lines 3 to 17 are imports such that, 4-16 represents a geometry I drew, which covers the entire India as a rectangle,\n",
        "//It is necessary to draw this rectangle based geometry because, if we use India as a Bounding box, since it has n-number of\n",
        "//Vertices it gives rise to server timeout. Therefore one simple rectangle can solve the problem.\n",
        "//I've also downloaded shapefile for India and uploaded into assests and used it here, feel free to use any shapefile that you want.\n",
        "\n",
        "/**** Start of imports. If edited, may not auto-convert in the playground. ****/\n",
        "var one =\n",
        "    /* color: #00ffff */\n",
        "    /* shown: false */\n",
        "    /* displayProperties: [\n",
        "      {\n",
        "        \"type\": \"rectangle\"\n",
        "      }\n",
        "    ] */\n",
        "    ee.Geometry.Polygon(\n",
        "        [[[63.62235869665927, 38.7274640420804],\n",
        "          [63.62235869665927, 3.830203655296874],\n",
        "          [99.83329619665926, 3.830203655296874],\n",
        "          [99.83329619665926, 38.7274640420804]]], null, false),\n",
        "    India = ee.FeatureCollection(\"projects/.../assets/Shapefiles/India_Boundary\");\n",
        "\n",
        "/***** End of imports. If edited, may not auto-convert in the playground. *****/\n",
        "\n",
        "// Select the MODIS LST image collection - here I'm using a 8 - day average\n",
        "var lst = ee.ImageCollection('MODIS/006/MOD11A2')\n",
        "  .select(['LST_Day_1km', 'LST_Night_1km']) //Selecting 2 bands Day and Night LST (Check the bands present in Image collection description)\n",
        "  .filterDate('2000-01-01', '2024-12-31') //Dates\n",
        "  .filterBounds(India); //Filtering data that touches or is within India boundary, actual clipping will take place at the bottom\n",
        "\n",
        "lst = lst.filter(ee.Filter.calendarRange(12,12,'month')) //I'm filtering the data for the months of december (you can choose the months)\n",
        "\n",
        "// Calculate the diurnal temperature range (DTR) for each image\n",
        "var dtr = lst.map(function(image) {\n",
        "  var day = image.select('LST_Day_1km').multiply(0.02).subtract(273.15); //Converting LST from Kelvin to Degree Celsius\n",
        "  var night = image.select('LST_Night_1km').multiply(0.02).subtract(273.15); //Converting LST from Kelvin to Degree Celsius\n",
        "  var dtr = day.subtract(night).clip(India) //Clipping to India\n",
        "  return image.addBands(dtr.rename('DTR'));\n",
        "}).select('DTR');\n",
        "var meanly = dtr.mean() //Necessary to generate mean of each december\n",
        "\n",
        "\n",
        "// Define export parameters\n",
        "//Change the parameters according to your needs\n",
        "var exportParams = {\n",
        "  driveFolder: 'MODIS_DTR',\n",
        "  region: one, //This is the rectangle we choose, easy to export shapefiles in a rectangle\n",
        "  scale: 1000, //Pixel size of MODIS\n",
        "  maxPixels: 1e13\n",
        "};\n",
        "\n",
        "// Loop over each year and export the DTR image\n",
        "//I'm using a for loop to loop over each year and get december month images\n",
        "var years = ee.List.sequence(2000, 2024); //years 2000 to 2024\n",
        "years.getInfo().forEach(function(year) {\n",
        "  var startDate = ee.Date.fromYMD(year, 1, 1);\n",
        "  var endDate = startDate.advance(1, 'year');\n",
        "  var image = dtr.filterDate(startDate, endDate).mean().clip(India);\n",
        "  image = image.unmask(meanly)\n",
        "  var exportName = 'MODIS_DTR_Dec' + year; //If you are using other data other than MODIS, change name accordingly.\n",
        "  Export.image.toDrive({\n",
        "    image: image,\n",
        "    description: exportName,\n",
        "    fileNamePrefix: exportName,\n",
        "    folder: exportParams.driveFolder,\n",
        "    region: exportParams.region,\n",
        "    crs: 'EPSG:4326',\n",
        "    scale: exportParams.scale,\n",
        "    maxPixels: exportParams.maxPixels\n",
        "  });\n",
        "});\n",
        "\n",
        "<---Code ends\n",
        "\"\"\""
      ]
    },
    {
      "cell_type": "markdown",
      "source": [
        "### Refer Docs here for more information on how to execute it efficiently\n",
        "https://github.com/shreyas-rc/GEE_Codes_V.1.2/blob/main/Parallel_Processing_Doc.pdf"
      ],
      "metadata": {
        "id": "iI8IpuDZyhqh"
      }
    },
    {
      "cell_type": "markdown",
      "source": [],
      "metadata": {
        "id": "WoTrJPA52rMB"
      }
    }
  ],
  "metadata": {
    "language_info": {
      "name": "python"
    },
    "colab": {
      "provenance": [],
      "include_colab_link": true
    }
  },
  "nbformat": 4,
  "nbformat_minor": 0
}